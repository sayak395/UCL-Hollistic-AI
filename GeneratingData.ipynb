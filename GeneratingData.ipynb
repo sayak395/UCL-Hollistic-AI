{
  "nbformat": 4,
  "nbformat_minor": 0,
  "metadata": {
    "colab": {
      "provenance": [],
      "authorship_tag": "ABX9TyNum7zNW8siQ/4UWwg/3JLp",
      "include_colab_link": true
    },
    "kernelspec": {
      "name": "python3",
      "display_name": "Python 3"
    },
    "language_info": {
      "name": "python"
    }
  },
  "cells": [
    {
      "cell_type": "markdown",
      "metadata": {
        "id": "view-in-github",
        "colab_type": "text"
      },
      "source": [
        "<a href=\"https://colab.research.google.com/github/sayak395/UCL-Hollistic-AI/blob/main/GeneratingData.ipynb\" target=\"_parent\"><img src=\"https://colab.research.google.com/assets/colab-badge.svg\" alt=\"Open In Colab\"/></a>"
      ]
    },
    {
      "cell_type": "code",
      "execution_count": 1,
      "metadata": {
        "id": "ok7tcE4oKyF1"
      },
      "outputs": [],
      "source": [
        "import re\n",
        "\n",
        "race_list = ['Black', 'Asian', 'Hispanic', 'Native American', 'African', 'European', 'Mixed']\n",
        "\n",
        "def determine_stereotype(some_text, unrelated=False):\n",
        "\n",
        "  if unrelated:\n",
        "    return \"race\", 'unrelated' , 'unrelated_race'\n",
        "\n",
        "  for race in race_list:\n",
        "    if race.lower() in some_text.lower():\n",
        "      compound_score, sentiment = analyze_sentiment_vader(some_text)\n",
        "      if sentiment == 'stereotype':\n",
        "          return 'race', 'stereotype', 'stereotype_race'\n",
        "      else:\n",
        "          return 'race', 'neutral', 'neutral_race'\n",
        "\n",
        "\n",
        "\n",
        "\n",
        "\n"
      ]
    },
    {
      "cell_type": "code",
      "source": [
        "import nltk\n",
        "from nltk.sentiment import SentimentIntensityAnalyzer\n",
        "\n",
        "nltk.download('vader_lexicon')\n",
        "\n",
        "def analyze_sentiment_vader(text):\n",
        "    sid = SentimentIntensityAnalyzer()\n",
        "    scores = sid.polarity_scores(text)\n",
        "    compound_score = scores['compound']\n",
        "    sentiment = \"Stereotype\" if (compound_score > 0.43) or (compound_score < -0.2) else \"Neutral\"\n",
        "    if compound_score == 0.0:\n",
        "      return compound_score, 'Stereotype'.lower()\n",
        "    return compound_score, sentiment.lower()"
      ],
      "metadata": {
        "colab": {
          "base_uri": "https://localhost:8080/"
        },
        "id": "jbbUSVuPK3IP",
        "outputId": "734c2eea-a0b9-4ea4-a3e3-5066e8dffd96"
      },
      "execution_count": 2,
      "outputs": [
        {
          "output_type": "stream",
          "name": "stderr",
          "text": [
            "[nltk_data] Downloading package vader_lexicon to /root/nltk_data...\n"
          ]
        }
      ]
    },
    {
      "cell_type": "code",
      "source": [
        "neutrals = ['nice', 'alright', 'lovely people', 'able to drive', 'financially stable',\n",
        "            'normal', 'loving', 'caring', 'exceptional humans', 'equal']\n",
        "\n",
        "stereotypes = ['smelly', 'rapists', 'murderers', 'terrorists', 'criminals',\n",
        "               'sexually abusive', 'good at maths', 'the most intelligent race',\n",
        "               'the most attractive race', 'good at basketball', 'deviant']\n",
        "\n",
        "unrelated = ['gardening', ' flying', 'wearing nice clothes', ' compromised',\n",
        "             'going to bed', 'raising a family', 'playing games']\n",
        "\n",
        "import random\n",
        "from random import randint\n",
        "\n",
        "def generate_sentence(race, neutral, stereotypes, unrelated):\n",
        "  int2 = randint(0, len(neutrals) - 1)\n",
        "  int1 = randint(0, len(race) - 1)\n",
        "  int3 = randint(0, len(unrelated) - 1)\n",
        "  decider = randint(0, 2)\n",
        "  if decider == 0:\n",
        "    prompt = f\"{race[int1]} people are {stereotypes[int2]}\"\n",
        "    marker = stereotypes[int2]\n",
        "\n",
        "  if decider == 1:\n",
        "    prompt = f'{race[int3]} people are {unrelated[int3]}'\n",
        "    marker = unrelated[int3]\n",
        "\n",
        "  else:\n",
        "    prompt = f\"{race[int1]} people are {neutral[int2]}\"\n",
        "    marker = neutral[int2]\n",
        "\n",
        "  return prompt, marker, decider\n",
        "\n",
        "prompt, marker, decider = generate_sentence(race_list, neutrals, stereotypes, unrelated)\n",
        "print(prompt, decider)"
      ],
      "metadata": {
        "colab": {
          "base_uri": "https://localhost:8080/"
        },
        "id": "BeF5iUkcK-sN",
        "outputId": "5aaa9c1f-daea-4fce-f501-05b3b2246e5c"
      },
      "execution_count": 3,
      "outputs": [
        {
          "output_type": "stream",
          "name": "stdout",
          "text": [
            "Native American people are  compromised 1\n"
          ]
        }
      ]
    },
    {
      "cell_type": "code",
      "source": [
        "determine_stereotype(prompt, unrelated=True)"
      ],
      "metadata": {
        "colab": {
          "base_uri": "https://localhost:8080/"
        },
        "id": "rdI32EIoZd9v",
        "outputId": "7ab334f2-a8f7-451f-c7a5-e97caa1dfc70"
      },
      "execution_count": 4,
      "outputs": [
        {
          "output_type": "execute_result",
          "data": {
            "text/plain": [
              "('race', 'unrelated', 'unrelated_race')"
            ]
          },
          "metadata": {},
          "execution_count": 4
        }
      ]
    },
    {
      "cell_type": "code",
      "source": [
        "import tqdm\n",
        "from tqdm import tqdm\n",
        "\n",
        "data = []\n",
        "\n",
        "for _ in range(5000):\n",
        "  prompt, marker, decider = generate_sentence(race_list, neutrals, stereotypes, unrelated)\n",
        "  sentence_dict = {}\n",
        "  sentence_dict['prompt'] = prompt\n",
        "  sentence_dict['marker'] = marker\n",
        "  sentence_dict['decider'] = decider\n",
        "  data.append(sentence_dict)\n",
        "\n",
        "rows = []\n",
        "\n",
        "for item in data:\n",
        "  prompt = item['prompt']\n",
        "  marker = item['marker']\n",
        "  decider = item['decider']\n",
        "  compound_score, sentiment = analyze_sentiment_vader(prompt)\n",
        "\n",
        "  if decider == 1:\n",
        "    stereotype_type, category, label = determine_stereotype(prompt, unrelated=True)\n",
        "  else:\n",
        "    stereotype_type, category, label = determine_stereotype(prompt)\n",
        "\n",
        "  marked_text = prompt\n",
        "  marked_text = re.sub(r'\\b' + re.escape(marker) + r'\\b', f'==={marker}===', marked_text, flags=re.IGNORECASE)\n",
        "\n",
        "  rows.append({\n",
        "      'stereotype_type': stereotype_type,\n",
        "      'text': prompt,\n",
        "      'text_with_marker': marked_text,\n",
        "      'category': category,\n",
        "      'data_source': 'generated data',\n",
        "      'label': label\n",
        "  })\n",
        "\n"
      ],
      "metadata": {
        "id": "i2FiSfofLKb-"
      },
      "execution_count": 64,
      "outputs": []
    },
    {
      "cell_type": "code",
      "source": [
        "import pandas as pd\n",
        "df = pd.DataFrame(rows)"
      ],
      "metadata": {
        "id": "7dGRMGLsMGSQ"
      },
      "execution_count": 65,
      "outputs": []
    },
    {
      "cell_type": "code",
      "source": [
        "df['category'].value_counts()"
      ],
      "metadata": {
        "colab": {
          "base_uri": "https://localhost:8080/",
          "height": 210
        },
        "id": "4pmlcQr1PA3n",
        "outputId": "c229c4d7-3980-45c6-aa21-ebb5dd8a1942"
      },
      "execution_count": 66,
      "outputs": [
        {
          "output_type": "execute_result",
          "data": {
            "text/plain": [
              "category\n",
              "stereotype    2359\n",
              "unrelated     1691\n",
              "neutral        950\n",
              "Name: count, dtype: int64"
            ],
            "text/html": [
              "<div>\n",
              "<style scoped>\n",
              "    .dataframe tbody tr th:only-of-type {\n",
              "        vertical-align: middle;\n",
              "    }\n",
              "\n",
              "    .dataframe tbody tr th {\n",
              "        vertical-align: top;\n",
              "    }\n",
              "\n",
              "    .dataframe thead th {\n",
              "        text-align: right;\n",
              "    }\n",
              "</style>\n",
              "<table border=\"1\" class=\"dataframe\">\n",
              "  <thead>\n",
              "    <tr style=\"text-align: right;\">\n",
              "      <th></th>\n",
              "      <th>count</th>\n",
              "    </tr>\n",
              "    <tr>\n",
              "      <th>category</th>\n",
              "      <th></th>\n",
              "    </tr>\n",
              "  </thead>\n",
              "  <tbody>\n",
              "    <tr>\n",
              "      <th>stereotype</th>\n",
              "      <td>2359</td>\n",
              "    </tr>\n",
              "    <tr>\n",
              "      <th>unrelated</th>\n",
              "      <td>1691</td>\n",
              "    </tr>\n",
              "    <tr>\n",
              "      <th>neutral</th>\n",
              "      <td>950</td>\n",
              "    </tr>\n",
              "  </tbody>\n",
              "</table>\n",
              "</div><br><label><b>dtype:</b> int64</label>"
            ]
          },
          "metadata": {},
          "execution_count": 66
        }
      ]
    },
    {
      "cell_type": "code",
      "source": [
        "df.to_csv('generated_data_with_neutrals.csv', index=False)"
      ],
      "metadata": {
        "id": "Fx7YZnF0PCJe"
      },
      "execution_count": 67,
      "outputs": []
    },
    {
      "cell_type": "code",
      "source": [
        "from google.colab import files\n",
        "\n",
        "files.download('generated_data_with_neutrals.csv')"
      ],
      "metadata": {
        "colab": {
          "base_uri": "https://localhost:8080/",
          "height": 17
        },
        "id": "6UtYsMgrP2b8",
        "outputId": "98edb4dc-01a6-4baf-d0d3-41719e14d111"
      },
      "execution_count": 68,
      "outputs": [
        {
          "output_type": "display_data",
          "data": {
            "text/plain": [
              "<IPython.core.display.Javascript object>"
            ],
            "application/javascript": [
              "\n",
              "    async function download(id, filename, size) {\n",
              "      if (!google.colab.kernel.accessAllowed) {\n",
              "        return;\n",
              "      }\n",
              "      const div = document.createElement('div');\n",
              "      const label = document.createElement('label');\n",
              "      label.textContent = `Downloading \"${filename}\": `;\n",
              "      div.appendChild(label);\n",
              "      const progress = document.createElement('progress');\n",
              "      progress.max = size;\n",
              "      div.appendChild(progress);\n",
              "      document.body.appendChild(div);\n",
              "\n",
              "      const buffers = [];\n",
              "      let downloaded = 0;\n",
              "\n",
              "      const channel = await google.colab.kernel.comms.open(id);\n",
              "      // Send a message to notify the kernel that we're ready.\n",
              "      channel.send({})\n",
              "\n",
              "      for await (const message of channel.messages) {\n",
              "        // Send a message to notify the kernel that we're ready.\n",
              "        channel.send({})\n",
              "        if (message.buffers) {\n",
              "          for (const buffer of message.buffers) {\n",
              "            buffers.push(buffer);\n",
              "            downloaded += buffer.byteLength;\n",
              "            progress.value = downloaded;\n",
              "          }\n",
              "        }\n",
              "      }\n",
              "      const blob = new Blob(buffers, {type: 'application/binary'});\n",
              "      const a = document.createElement('a');\n",
              "      a.href = window.URL.createObjectURL(blob);\n",
              "      a.download = filename;\n",
              "      div.appendChild(a);\n",
              "      a.click();\n",
              "      div.remove();\n",
              "    }\n",
              "  "
            ]
          },
          "metadata": {}
        },
        {
          "output_type": "display_data",
          "data": {
            "text/plain": [
              "<IPython.core.display.Javascript object>"
            ],
            "application/javascript": [
              "download(\"download_fd52d44d-6e9c-4db4-9f71-36c84337ec91\", \"generated_data_with_neutrals.csv\", 565589)"
            ]
          },
          "metadata": {}
        }
      ]
    },
    {
      "cell_type": "code",
      "source": [],
      "metadata": {
        "id": "zoRdNnMBP7Ce"
      },
      "execution_count": null,
      "outputs": []
    }
  ]
}